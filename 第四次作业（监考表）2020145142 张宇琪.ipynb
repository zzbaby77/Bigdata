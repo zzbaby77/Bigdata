{
 "cells": [
  {
   "cell_type": "code",
   "execution_count": 1,
   "id": "2599e22f",
   "metadata": {},
   "outputs": [
    {
     "name": "stdout",
     "output_type": "stream",
     "text": [
      "请输入要查询的姓名：张宇琪\n"
     ]
    },
    {
     "data": {
      "text/html": [
       "<table border=\"1\" class=\"dataframe\">\n",
       "    <thead>\n",
       "        <tr>\n",
       "            <th>日期</th> <th>时间</th> <th>考场</th> <th>科目</th>\n",
       "        </tr>\n",
       "    </thead>\n",
       "    <tbody>\n",
       "        <tr>\n",
       "            <td>[]            </td> <td>[]             </td> <td>[]        </td> <td>[]       </td>\n",
       "        </tr>\n",
       "        <tr>\n",
       "            <td>['2022/11/15']</td> <td>['8:30-10:30'] </td> <td>['教二212'] </td> <td>['spark']</td>\n",
       "        </tr>\n",
       "        <tr>\n",
       "            <td>['2022/11/15']</td> <td>['14:30-16:30']</td> <td>['理一A312']</td> <td>['hive'] </td>\n",
       "        </tr>\n",
       "        <tr>\n",
       "            <td>[]            </td> <td>[]             </td> <td>[]        </td> <td>[]       </td>\n",
       "        </tr>\n",
       "    </tbody>\n",
       "</table>"
      ],
      "text/plain": [
       "日期             | 时间              | 考场         | 科目\n",
       "[]             | []              | []         | []\n",
       "['2022/11/15'] | ['8:30-10:30']  | ['教二212']  | ['spark']\n",
       "['2022/11/15'] | ['14:30-16:30'] | ['理一A312'] | ['hive']\n",
       "[]             | []              | []         | []"
      ]
     },
     "execution_count": 1,
     "metadata": {},
     "output_type": "execute_result"
    }
   ],
   "source": [
    "from datascience import *\n",
    "hadoop = Table.read_table(\"D:\\\\桌面\\\\datascience/hadoop.csv\")\n",
    "spark = Table.read_table(\"D:\\\\桌面\\\\datascience/spark.csv\")\n",
    "hive = Table.read_table(\"D:\\\\桌面\\\\datascience/hive.csv\")\n",
    "math = Table.read_table(\"D:\\\\桌面\\\\datascience/高数监考表.csv\")\n",
    "\n",
    "# def Inquire(path,name):\n",
    "#     a = path.where(\"姓名\",name)\n",
    "#     return a\n",
    "\n",
    "def Inquire(path,name):\n",
    "    a = path.where(\"姓名\",name)\n",
    "    date = a[2]\n",
    "    time = a[3]\n",
    "    classroom = a[4]\n",
    "    subject =a[5]\n",
    "    return [date,time,classroom,subject]\n",
    "\n",
    "name = input(\"请输入要查询的姓名：\")\n",
    "#content = list(Inquire(hadoop,name),Inquire(spark,name),Inquire(hive,name),Inquire(math,name))\n",
    "content_hadoop = Inquire(hadoop,name)\n",
    "content_spark = Inquire(spark,name)\n",
    "content_hive = Inquire(hive,name)\n",
    "content_math = Inquire(math,name)\n",
    "# a = make_array(content_hadoop,content_spark,content_hive,content_math)\n",
    "date = (content_hadoop[0],content_spark[0],content_hive[0],content_math[0])\n",
    "time = (content_hadoop[1],content_spark[1],content_hive[1],content_math[1])\n",
    "classroom = (content_hadoop[2],content_spark[2],content_hive[2],content_math[2])\n",
    "subject = (content_hadoop[3],content_spark[3],content_hive[3],content_math[3])\n",
    "table = Table().with_columns(\"日期\",date,\"时间\",time,\"考场\",classroom,\"科目\",subject)\n",
    "table\n"
   ]
  },
  {
   "cell_type": "code",
   "execution_count": null,
   "id": "5c3d1c83",
   "metadata": {},
   "outputs": [],
   "source": []
  }
 ],
 "metadata": {
  "kernelspec": {
   "display_name": "Python 3 (ipykernel)",
   "language": "python",
   "name": "python3"
  },
  "language_info": {
   "codemirror_mode": {
    "name": "ipython",
    "version": 3
   },
   "file_extension": ".py",
   "mimetype": "text/x-python",
   "name": "python",
   "nbconvert_exporter": "python",
   "pygments_lexer": "ipython3",
   "version": "3.9.12"
  }
 },
 "nbformat": 4,
 "nbformat_minor": 5
}
